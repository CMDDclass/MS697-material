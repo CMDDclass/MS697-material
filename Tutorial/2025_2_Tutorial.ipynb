{
  "cells": [
    {
      "cell_type": "markdown",
      "metadata": {
        "id": "0rEGMgy5QqoJ"
      },
      "source": [
        "#  **Hands-on-session1 (Querying data from materials databases)**\n",
        "\n"
      ]
    },
    {
      "cell_type": "markdown",
      "metadata": {
        "id": "TgXaUF41Jhyz"
      },
      "source": [
        "# **Necessary Libraries**"
      ]
    },
    {
      "cell_type": "code",
      "execution_count": null,
      "metadata": {
        "collapsed": true,
        "id": "PjktPjPSJP53"
      },
      "outputs": [],
      "source": [
        "!pip install pandas==2.2.2\n",
        "!git clone https://github.com/CMDDclass/MS697-material.git"
      ]
    },
    {
      "cell_type": "markdown",
      "metadata": {
        "id": "HLd9kdqza_DP"
      },
      "source": [
        "# **Reading data from the excel or csv file**"
      ]
    },
    {
      "cell_type": "code",
      "execution_count": null,
      "metadata": {
        "id": "FDTkVThrbHJL"
      },
      "outputs": [],
      "source": [
        "## Loading sample data file of \"california_housing_train.csv\" from folder \"sample_data\" as a dataframe using pandas\n",
        "## To see the manual, type \"?pd\" or \"?pd.read_csv\" after importing pandas\n",
        "## The detailed explanation can be found in \"https://inria.github.io/scikit-learn-mooc/python_scripts/datasets_california_housing.html\"\n",
        "import pandas as pd\n",
        "\n",
        "file_path = \"/content/MS697-material/data/california_housing_train.csv\"\n",
        "df = pd.read_csv(file_path)"
      ]
    },
    {
      "cell_type": "code",
      "execution_count": null,
      "metadata": {
        "id": "i1LnH-CSPCHx"
      },
      "outputs": [],
      "source": [
        "## Checking the loading dataframe\n",
        "df.head()"
      ]
    },
    {
      "cell_type": "code",
      "execution_count": null,
      "metadata": {
        "id": "dz7Zf0H9R_Im"
      },
      "outputs": [],
      "source": [
        "# Summary statistics of the DataFrame\n",
        "# To see what you can do with this class, just put \".\" and wait to see the list of available functions and properties\n",
        "df.describe()"
      ]
    },
    {
      "cell_type": "code",
      "execution_count": null,
      "metadata": {
        "id": "ooEonS_ZKkn6"
      },
      "outputs": [],
      "source": [
        "## tuple representing the dimensionality of the DataFrame\n",
        "df.shape"
      ]
    },
    {
      "cell_type": "code",
      "execution_count": null,
      "metadata": {
        "id": "zAsGCWxuJv7n"
      },
      "outputs": [],
      "source": [
        "## Confirm axis labels to see features\n",
        "df.columns"
      ]
    },
    {
      "cell_type": "code",
      "execution_count": null,
      "metadata": {
        "id": "P27hWjRvQP8L"
      },
      "outputs": [],
      "source": [
        "## Sorting the houses' population over 1000\n",
        "df_pop = df[df['population'] > 1000]\n",
        "df_pop.describe()"
      ]
    },
    {
      "cell_type": "code",
      "execution_count": null,
      "metadata": {
        "id": "UTyTQQhGTp1Z"
      },
      "outputs": [],
      "source": [
        "## Sorting with the condition of population over 1000 & total bedrooms below 500\n",
        "df_pop_bed = df[(df['population'] > 1000) & (df['totalBedrooms'] < 500)]\n",
        "df_pop_bed.describe()"
      ]
    },
    {
      "cell_type": "code",
      "execution_count": null,
      "metadata": {
        "id": "knCvO1g5VnEK"
      },
      "outputs": [],
      "source": [
        "## Generate a new column for the data satifying specific conditions of population over 3000\n",
        "df['High_population'] = df['population'] >= 3000\n",
        "df.head(10)"
      ]
    },
    {
      "cell_type": "code",
      "execution_count": null,
      "metadata": {
        "id": "Ry4ZgcwkWxG6"
      },
      "outputs": [],
      "source": [
        "## Save to excel file\n",
        "df.to_csv(\"new_df.csv\")"
      ]
    }
  ],
  "metadata": {
    "colab": {
      "provenance": []
    },
    "kernelspec": {
      "display_name": "Class_Practice",
      "language": "python",
      "name": "python3"
    },
    "language_info": {
      "name": "python",
      "version": "3.10.18"
    }
  },
  "nbformat": 4,
  "nbformat_minor": 0
}