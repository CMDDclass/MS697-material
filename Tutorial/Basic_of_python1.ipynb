{
  "nbformat": 4,
  "nbformat_minor": 0,
  "metadata": {
    "kernelspec": {
      "display_name": "Python 3",
      "language": "python",
      "name": "python3"
    },
    "language_info": {
      "codemirror_mode": {
        "name": "ipython",
        "version": 3
      },
      "file_extension": ".py",
      "mimetype": "text/x-python",
      "name": "python",
      "nbconvert_exporter": "python",
      "pygments_lexer": "ipython3",
      "version": "3.6.5"
    },
    "colab": {
      "provenance": []
    }
  },
  "cells": [
    {
      "cell_type": "markdown",
      "metadata": {
        "id": "-awU_YxnLyOm"
      },
      "source": [
        "# An introduction to Python\n",
        "Modified by D. Seo using the notebook from https://github.com/pycam/python-basic\n",
        "\n",
        "## Session 1:\n",
        "\n",
        "- Printing values\n",
        "- Using variables\n",
        "- Simple data types: Booleans, Integers, Floating point numbers, and Strings\n",
        "- Comments\n",
        "- Arithmetic"
      ]
    },
    {
      "cell_type": "markdown",
      "metadata": {
        "id": "2otj8TCbLyOn"
      },
      "source": [
        "## Printing values\n",
        "\n",
        "The first bit of python syntax we're going to learn is the <tt>print</tt> statement. This command lets us print messages to the user, and also to see what Python thinks is the value of some expression (very useful when debugging your programs).\n",
        "\n",
        "We will go into details later on, but for now just note that to print some text you have to enclose it in  \"quotation marks\".\n",
        "\n",
        "We will go into detail on the arithmetic operations supported in python shortly, but you can try exploring python's calculating abilities."
      ]
    },
    {
      "cell_type": "code",
      "metadata": {
        "id": "XKfrrveHLyOq"
      },
      "source": [
        "print(\"Hello from python!\")"
      ],
      "execution_count": null,
      "outputs": []
    },
    {
      "cell_type": "code",
      "metadata": {
        "id": "e1or5evjLyOs"
      },
      "source": [
        "print(34)"
      ],
      "execution_count": null,
      "outputs": []
    },
    {
      "cell_type": "code",
      "metadata": {
        "id": "cDemMtD0LyOu"
      },
      "source": [
        "print(2 + 3)"
      ],
      "execution_count": null,
      "outputs": []
    },
    {
      "cell_type": "markdown",
      "metadata": {
        "id": "8AYJlj8RLyOw"
      },
      "source": [
        "You can print  multiple expressions you need to seperate them with commas. Python will insert a space between each element, and a newline at the end of the message (though you can suppress this behaviour by leaving a trailing comma at the end of the command)."
      ]
    },
    {
      "cell_type": "code",
      "metadata": {
        "id": "1J5t65PYLyOw"
      },
      "source": [
        "print(\"The answer:\", 42)"
      ],
      "execution_count": null,
      "outputs": []
    },
    {
      "cell_type": "markdown",
      "metadata": {
        "id": "vDi3mY9YLyOy"
      },
      "source": [
        "## Using variables"
      ]
    },
    {
      "cell_type": "markdown",
      "metadata": {
        "id": "XBdWlLKRLyOy"
      },
      "source": [
        "In the <tt>print</tt> commands above we have directly operated on values such as text strings and numbers. When programming we will typically want to deal with rather more complex expressions where it is useful to be able to assign a name to an expression, especially if we are trying to deal with multiple values at the same time.\n",
        "\n",
        "We can give a name to a value using _variables_, the name is apt because the values stored in a variable can _vary_. Unlike some other languages, the type of value assigned to a variable can also change (this is one of the reasons why python is known as a _dynamic_ language).\n",
        "\n",
        "A variable can be assigned to a simple value..."
      ]
    },
    {
      "cell_type": "code",
      "metadata": {
        "id": "_yxkqWUrLyOy"
      },
      "source": [
        "x = 3\n",
        "print(x)"
      ],
      "execution_count": null,
      "outputs": []
    },
    {
      "cell_type": "markdown",
      "metadata": {
        "id": "50jiWNyILyO1"
      },
      "source": [
        "... or the outcome of a more complex expression."
      ]
    },
    {
      "cell_type": "code",
      "metadata": {
        "id": "bD7vwr39LyO1"
      },
      "source": [
        "x = 2 + 2\n",
        "print(x)"
      ],
      "execution_count": null,
      "outputs": []
    },
    {
      "cell_type": "markdown",
      "metadata": {
        "id": "gdg6l0zjLyO3"
      },
      "source": [
        "A variable can be called whatever you like (as long as it starts with a character, it does not contain space and is meaningful) and you assign a value to a variable with the **`=` operator**. Note that this is different to mathematical equality (which we will come to later...)\n",
        "\n",
        "You can <tt>print</tt> a variable to see what python thinks its current value is."
      ]
    },
    {
      "cell_type": "code",
      "metadata": {
        "id": "5ZQ72UZkLyO3"
      },
      "source": [
        "name = \"Iron man\"\n",
        "print(name, \"is his name\")"
      ],
      "execution_count": null,
      "outputs": []
    },
    {
      "cell_type": "markdown",
      "metadata": {
        "id": "5dXxkLCNLyO5"
      },
      "source": [
        "In the interactive interpreter you don't have to <tt>print</tt> everything, if you type a variable name (or just a value), the interpreter will automatically print out what python thinks the value is. Note though that this is not the case if your code is in a file."
      ]
    },
    {
      "cell_type": "code",
      "metadata": {
        "id": "V3q5hA5xLyO5"
      },
      "source": [
        "3 + 4"
      ],
      "execution_count": null,
      "outputs": []
    },
    {
      "cell_type": "code",
      "metadata": {
        "id": "cb14A6jbLyO7"
      },
      "source": [
        "x = 5\n",
        "3 * x"
      ],
      "execution_count": null,
      "outputs": []
    },
    {
      "cell_type": "markdown",
      "metadata": {
        "id": "8r05JJXJLyO8"
      },
      "source": [
        "Variables can be used on the right hand side of an assignment as well, in which case they will be evaluated before the value is assigned to the variable on the left hand side."
      ]
    },
    {
      "cell_type": "code",
      "metadata": {
        "id": "zYg8PtXDLyO9"
      },
      "source": [
        "x = 5\n",
        "y = x * 3\n",
        "print(y)"
      ],
      "execution_count": null,
      "outputs": []
    },
    {
      "cell_type": "markdown",
      "metadata": {
        "id": "SoNg0XxkLyO-"
      },
      "source": [
        "or just `y` in the interpreter and in Jupyter notebook"
      ]
    },
    {
      "cell_type": "code",
      "metadata": {
        "id": "au9RjmL7LyO_"
      },
      "source": [
        "y"
      ],
      "execution_count": null,
      "outputs": []
    },
    {
      "cell_type": "markdown",
      "metadata": {
        "id": "wziZRizqLyPA"
      },
      "source": [
        "You can use the current value of a variable itself in an assignment"
      ]
    },
    {
      "cell_type": "code",
      "metadata": {
        "id": "6OVnrZZ3LyPB"
      },
      "source": [
        "y = y + 1\n",
        "y"
      ],
      "execution_count": null,
      "outputs": []
    },
    {
      "cell_type": "markdown",
      "metadata": {
        "id": "pClccIuRLyPC"
      },
      "source": [
        "In fact this is such a common idiom that there are special operators that will do this implicitly (more on these later)"
      ]
    },
    {
      "cell_type": "code",
      "metadata": {
        "id": "OO62u-cqLyPC"
      },
      "source": [
        "y += 1\n",
        "y"
      ],
      "execution_count": null,
      "outputs": []
    },
    {
      "cell_type": "markdown",
      "metadata": {
        "id": "szQYv7kzLyPE"
      },
      "source": [
        "## Simple data types"
      ]
    },
    {
      "cell_type": "markdown",
      "metadata": {
        "id": "DZj6yFL_LyPE"
      },
      "source": [
        "Python (and computers in general) treats different types of data differently. Python has 5 main basic data types. Types are useful to constrain some operations to a certain category of variables. For example it doesn't really make sense to try to divide a string.\n",
        "\n",
        "We will see some examples of these in use shortly, but for now let's see all of the basic types available in python.\n",
        "\n",
        "### Booleans\n",
        "\n",
        "Boolean values represent truth or falsehood, as used in logical operations, for example. Not surprisingly, there are only two values, and in Python they are called <tt>True</tt> and <tt>False</tt>."
      ]
    },
    {
      "cell_type": "code",
      "metadata": {
        "id": "kU9W_HmMLyPF"
      },
      "source": [
        "a = True\n",
        "b = False\n",
        "print(a, b)\n",
        "\n",
        "x = 10 < 5\n",
        "print(x)"
      ],
      "execution_count": null,
      "outputs": []
    },
    {
      "cell_type": "markdown",
      "metadata": {
        "id": "brFzJhXnLyPH"
      },
      "source": [
        "### Integers\n",
        "\n",
        "Integers represent whole numbers, as you would use when counting items, and can be positive or negative."
      ]
    },
    {
      "cell_type": "code",
      "metadata": {
        "id": "fWVnZ1FnLyPH"
      },
      "source": [
        "i = -7\n",
        "j = 123\n",
        "print(i, j)"
      ],
      "execution_count": null,
      "outputs": []
    },
    {
      "cell_type": "markdown",
      "metadata": {
        "id": "L8OkHjQ7LyPJ"
      },
      "source": [
        "### Floating point numbers\n",
        "\n",
        "Floating point numbers, often simply referred to as <tt>float</tt>s, are numbers expressed in the decimal system, i.e. 2.1, 999.998, -0.000004 etc. The value 2.0 would also be interpreted as a floating point number, but the value 2, without the decimal point will not; it will be interpreted as an integer."
      ]
    },
    {
      "cell_type": "code",
      "metadata": {
        "id": "vjG0IZADLyPJ"
      },
      "source": [
        "x = 3.14159\n",
        "y = -42.3\n",
        "print(x * y)"
      ],
      "execution_count": null,
      "outputs": []
    },
    {
      "cell_type": "markdown",
      "metadata": {
        "id": "DKQj6YvoLyPL"
      },
      "source": [
        "Floating point numbers can also carry an <tt>e</tt> suffix that states which power of ten they operate at."
      ]
    },
    {
      "cell_type": "code",
      "metadata": {
        "id": "lKvAo_OKLyPL"
      },
      "source": [
        "k = 1.5e3\n",
        "l = 3e-2\n",
        "print(k)\n",
        "print(l)"
      ],
      "execution_count": null,
      "outputs": []
    },
    {
      "cell_type": "code",
      "metadata": {
        "id": "M4KaGXJuNjZ2"
      },
      "source": [
        "print(\"The answer: {:.3f}\".format(x))"
      ],
      "execution_count": null,
      "outputs": []
    },
    {
      "cell_type": "code",
      "metadata": {
        "id": "2Wo4w0yWNpv0"
      },
      "source": [
        "print(\"The answer: {:.1f}\".format(x))"
      ],
      "execution_count": null,
      "outputs": []
    },
    {
      "cell_type": "markdown",
      "metadata": {
        "id": "IOc0Sv8SLyPM"
      },
      "source": [
        "### Strings\n",
        "\n",
        "Strings represent text, i.e. \"strings\" of characters. They can be delimited by single quotes <tt>‘</tt> or double quotes <tt>“</tt>, but you have to use the same delimiter at both ends. Unlike some programming languages, such as Perl, there is no difference between the two types of quote, although using one type does allow the other type to appear inside the string as a regular character."
      ]
    },
    {
      "cell_type": "code",
      "metadata": {
        "id": "YFOrkkF5LyPN"
      },
      "source": [
        "s = \"String with double quotes\\n\"\n",
        "t = 'String with single quotes\\n'\n",
        "u = \"It's a string with apostrophes\\n\"\n",
        "print(s, t, u)"
      ],
      "execution_count": null,
      "outputs": []
    },
    {
      "cell_type": "markdown",
      "metadata": {
        "id": "-5e8rBZsLyPO"
      },
      "source": [
        "### The <tt>None</tt> object\n",
        "\n",
        "The None object is special built-in value which can be thought of as **representing nothingness or that something is undefined**. For example, it can be used to indicate that a variable exists, but has not yet been set to anything specific."
      ]
    },
    {
      "cell_type": "code",
      "metadata": {
        "id": "oZcZJiB6LyPO"
      },
      "source": [
        "z = None\n",
        "print(z)"
      ],
      "execution_count": null,
      "outputs": []
    },
    {
      "cell_type": "markdown",
      "metadata": {
        "id": "7R2URqGRLyPQ"
      },
      "source": [
        "### Object type\n",
        "\n",
        "You can check what type python thinks an expression is with the <tt>type</tt> function, which you can call with the name <tt>type</tt> immediately followed by parentheses enclosing the expression you want to check (either a variable or a value), e.g. <tt>type(3)</tt>. (This is the general form for calling functions, we'll see lots more examples of functions later...)"
      ]
    },
    {
      "cell_type": "code",
      "metadata": {
        "id": "XgEOls5FLyPQ"
      },
      "source": [
        "a = True\n",
        "print(a, \"is of\", type(a))"
      ],
      "execution_count": null,
      "outputs": []
    },
    {
      "cell_type": "code",
      "metadata": {
        "id": "dP53nWaVLyPS"
      },
      "source": [
        "i = -7\n",
        "print(i, \"is of\", type(i))"
      ],
      "execution_count": null,
      "outputs": []
    },
    {
      "cell_type": "code",
      "metadata": {
        "id": "43XJ2Ra8LyPU"
      },
      "source": [
        "x = 12.7893\n",
        "print(x, \"is of\", type(x))"
      ],
      "execution_count": null,
      "outputs": []
    },
    {
      "cell_type": "code",
      "metadata": {
        "id": "qud15bk-LyPV"
      },
      "source": [
        "s = \"Workshop\"\n",
        "print(s, \"is of\", type(s))"
      ],
      "execution_count": null,
      "outputs": []
    },
    {
      "cell_type": "code",
      "metadata": {
        "id": "aQqgilkSLyPX"
      },
      "source": [
        "z = None\n",
        "print(z, \"is of\", type(z))"
      ],
      "execution_count": null,
      "outputs": []
    },
    {
      "cell_type": "markdown",
      "metadata": {
        "id": "vsZYnVyLLyPY"
      },
      "source": [
        "## Comments\n",
        "\n",
        "When you are writing a program it is often convenient to annotate your code to remind you what you were (intending) it to do. In programming these annotations are known as _comments_. You can include a comment in python by prefixing some text with a <tt>#</tt> character. All text following the <tt>#</tt> will then be ignored by the interpreter. You can start a comment on its own line, or you can include it at the end of a line of code.\n",
        "\n",
        "It is also often useful to temporarily remove some code from a script without deleting it. This is known as _commenting out_ some code."
      ]
    },
    {
      "cell_type": "code",
      "metadata": {
        "id": "tJiD0a0LLyPY"
      },
      "source": [
        "print(\"Hi\") # this will be ignored\n",
        "# as will this\n",
        "print(\"Bye\")\n",
        "# print \"Never seen\""
      ],
      "execution_count": null,
      "outputs": []
    },
    {
      "cell_type": "markdown",
      "metadata": {
        "id": "W4JdgER_LyPa"
      },
      "source": [
        "## Arithmetic"
      ]
    },
    {
      "cell_type": "markdown",
      "metadata": {
        "id": "opjWAyuELyPb"
      },
      "source": [
        "Python supports all the standard arithmetical operations on numerical types, and mostly uses a similar syntax to several other computer languages:"
      ]
    },
    {
      "cell_type": "code",
      "metadata": {
        "id": "3oboFwL1LyPb"
      },
      "source": [
        "x = 4.5\n",
        "y = 2\n",
        "\n",
        "print('x = ', x, 'y = ', y)\n",
        "print('addition x + y =', x + y)\n",
        "print('subtraction x - y =', x - y)\n",
        "print('multiplication x * y =', x * y)\n",
        "print('division x / y =', x / y)"
      ],
      "execution_count": null,
      "outputs": []
    },
    {
      "cell_type": "code",
      "metadata": {
        "id": "KD126YobLyPc"
      },
      "source": [
        "x = 4.5\n",
        "y = 2\n",
        "\n",
        "print('x = ', x, 'y = ', y)\n",
        "print('division x / y =', x / y)\n",
        "print('floored division x // y =', x // y)\n",
        "print(type(x//y))\n",
        "print('modulus (remainder of x/y) x % y =', x % y)\n",
        "print('exponentiation x ** y =', 10 ** 2)"
      ],
      "execution_count": null,
      "outputs": []
    },
    {
      "cell_type": "markdown",
      "metadata": {
        "id": "G11yZw0GLyPe"
      },
      "source": [
        "As usual in maths, division and multiplication have higher precedence than addition and subtraction, but arithmetic expressions can be grouped using parentheses to override the default precedence"
      ]
    },
    {
      "cell_type": "code",
      "metadata": {
        "id": "hhhtLgIxLyPe"
      },
      "source": [
        "x = 13\n",
        "y = 5\n",
        "\n",
        "print('x * (2 + y) =', x * (2 + y))\n",
        "print('(x * 2) + y =', (x * 2) + y)\n",
        "print('x * 2 + y =', x * 2 + y)"
      ],
      "execution_count": null,
      "outputs": []
    },
    {
      "cell_type": "markdown",
      "metadata": {
        "id": "FE7l4dmRLyPf"
      },
      "source": [
        "You can mix (some) types in arithmetic expressions and python will apply rules as to the type of the result\n"
      ]
    },
    {
      "cell_type": "code",
      "metadata": {
        "id": "ykzfgCurLyPg"
      },
      "source": [
        "int(13 + 5.0)"
      ],
      "execution_count": null,
      "outputs": []
    },
    {
      "cell_type": "markdown",
      "metadata": {
        "id": "iy__ZB_9LyPi"
      },
      "source": [
        "You can force python to use a particular type by converting an expression explicitly, using helpful named functions: <tt>float</tt>, <tt>int</tt>, <tt>str</tt> etc."
      ]
    },
    {
      "cell_type": "code",
      "metadata": {
        "id": "EAj-y_lDLyPi"
      },
      "source": [
        "float(3) + float(7)"
      ],
      "execution_count": null,
      "outputs": []
    },
    {
      "cell_type": "code",
      "metadata": {
        "id": "UlNx6liMLyPk"
      },
      "source": [
        "int(3.14159) + 1"
      ],
      "execution_count": null,
      "outputs": []
    },
    {
      "cell_type": "code",
      "metadata": {
        "id": "OBIk19ktPL1R"
      },
      "source": [
        "int(3.6)"
      ],
      "execution_count": null,
      "outputs": []
    },
    {
      "cell_type": "markdown",
      "metadata": {
        "id": "QWQFcYTYLyPn"
      },
      "source": [
        "The addition operator `+` allows you also to concatenate strings together."
      ]
    },
    {
      "cell_type": "code",
      "metadata": {
        "id": "ft30BphDLyPn"
      },
      "source": [
        "print('number' + str(3))"
      ],
      "execution_count": null,
      "outputs": []
    },
    {
      "cell_type": "code",
      "metadata": {
        "id": "8fAqAeZiPp-Z"
      },
      "source": [
        "s1 = \"My name is\"\n",
        "s2 = \"Iron man\"\n",
        "s1+' '+s2"
      ],
      "execution_count": null,
      "outputs": []
    },
    {
      "cell_type": "markdown",
      "metadata": {
        "id": "tSbN2OVWLyPp"
      },
      "source": [
        "Division in Python 2 sometimes trips up new (and experienced!) programmers. If you divide 2 integers you will only get an integer result. If you want a floating point result you should explicitly cast at least one of the arguments to a <tt>float</tt>."
      ]
    },
    {
      "cell_type": "markdown",
      "metadata": {
        "id": "HSXBaYYNLyPr"
      },
      "source": [
        "There are a few shortcut assignment statements to make modifying variables directly faster to type"
      ]
    },
    {
      "cell_type": "code",
      "metadata": {
        "id": "YGpIY2qWLyPr"
      },
      "source": [
        "x = 3\n",
        "x += 1 # equivalent to x = x + 1\n",
        "x"
      ],
      "execution_count": null,
      "outputs": []
    },
    {
      "cell_type": "code",
      "metadata": {
        "id": "mWB7mCaCQJAr"
      },
      "source": [
        "x = 5\n",
        "x -= 2\n",
        "x"
      ],
      "execution_count": null,
      "outputs": []
    },
    {
      "cell_type": "code",
      "metadata": {
        "id": "fTm3vLHELyPt"
      },
      "source": [
        "x = 2\n",
        "y = 10\n",
        "y *= x\n",
        "y"
      ],
      "execution_count": null,
      "outputs": []
    },
    {
      "cell_type": "markdown",
      "metadata": {
        "id": "lBhjuwSnLyPu"
      },
      "source": [
        "These shortcut operators are available for all arithmetic and logical operators."
      ]
    },
    {
      "cell_type": "markdown",
      "metadata": {
        "id": "sXYneBo7LyPv"
      },
      "source": [
        "## Exercises\n",
        "\n",
        "In the interpreter:\n",
        "\n",
        "1. Assign numerical values to 2 variables, calculate the mean of these two variables and store the result in another variable. Print out the result to the screen."
      ]
    }
  ]
}